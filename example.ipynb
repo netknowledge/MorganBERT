{
 "cells": [
  {
   "cell_type": "markdown",
   "id": "d871b98b-e32c-444e-907d-dea47850cbe3",
   "metadata": {},
   "source": [
    "A step-by-step way of `utils_benchmark.test_model_performance()`:"
   ]
  },
  {
   "cell_type": "code",
   "execution_count": 35,
   "id": "ee6dcdbb-44cb-45f6-b95b-56eac0b1f7b0",
   "metadata": {},
   "outputs": [],
   "source": [
    "import json\n",
    "import pandas as pd\n",
    "import time\n",
    "\n",
    "from rdkit import Chem\n",
    "from transformers import BertTokenizer\n",
    "\n",
    "import model_roberta\n",
    "import utils_split\n",
    "import utils_mol"
   ]
  },
  {
   "cell_type": "code",
   "execution_count": 2,
   "id": "ce945366-096c-4be8-b83d-c7885e6cc558",
   "metadata": {},
   "outputs": [],
   "source": [
    "data_df = pd.read_csv('https://netknowledge.github.io/ADMET/datasets/solubility_Biogen.csv')"
   ]
  },
  {
   "cell_type": "code",
   "execution_count": 3,
   "id": "d413c3f5-ee3c-4653-b517-b20f617a80dd",
   "metadata": {},
   "outputs": [
    {
     "data": {
      "text/html": [
       "<div>\n",
       "<style scoped>\n",
       "    .dataframe tbody tr th:only-of-type {\n",
       "        vertical-align: middle;\n",
       "    }\n",
       "\n",
       "    .dataframe tbody tr th {\n",
       "        vertical-align: top;\n",
       "    }\n",
       "\n",
       "    .dataframe thead th {\n",
       "        text-align: right;\n",
       "    }\n",
       "</style>\n",
       "<table border=\"1\" class=\"dataframe\">\n",
       "  <thead>\n",
       "    <tr style=\"text-align: right;\">\n",
       "      <th></th>\n",
       "      <th>logS</th>\n",
       "      <th>canonical_smiles</th>\n",
       "    </tr>\n",
       "  </thead>\n",
       "  <tbody>\n",
       "    <tr>\n",
       "      <th>0</th>\n",
       "      <td>-5.548020</td>\n",
       "      <td>CNc1cc(Nc2cccn(-c3ccccn3)c2=O)nn2c(C(=O)N[C@@H...</td>\n",
       "    </tr>\n",
       "    <tr>\n",
       "      <th>1</th>\n",
       "      <td>-5.071409</td>\n",
       "      <td>CCOc1cc2nn(CCC(C)(C)O)cc2cc1NC(=O)c1cccc(C(F)F)n1</td>\n",
       "    </tr>\n",
       "    <tr>\n",
       "      <th>2</th>\n",
       "      <td>-3.925969</td>\n",
       "      <td>CC(C)(Oc1ccc(-c2cnc(N)c(-c3ccc(Cl)cc3)c2)cc1)C...</td>\n",
       "    </tr>\n",
       "    <tr>\n",
       "      <th>3</th>\n",
       "      <td>-4.535280</td>\n",
       "      <td>CC#CC(=O)N[C@H]1CCCN(c2c(F)cc(C(N)=O)c3[nH]c(C...</td>\n",
       "    </tr>\n",
       "    <tr>\n",
       "      <th>4</th>\n",
       "      <td>-4.709963</td>\n",
       "      <td>C=CC(=O)N1CCC[C@@H](n2nc(-c3ccc(Oc4ccccc4)cc3)...</td>\n",
       "    </tr>\n",
       "    <tr>\n",
       "      <th>...</th>\n",
       "      <td>...</td>\n",
       "      <td>...</td>\n",
       "    </tr>\n",
       "    <tr>\n",
       "      <th>2168</th>\n",
       "      <td>-3.733424</td>\n",
       "      <td>Cc1cc(C)cc(C(=O)NCCCNc2ncccn2)c1</td>\n",
       "    </tr>\n",
       "    <tr>\n",
       "      <th>2169</th>\n",
       "      <td>-4.037319</td>\n",
       "      <td>CCc1noc(COc2c(C)ccnc2Cl)n1</td>\n",
       "    </tr>\n",
       "    <tr>\n",
       "      <th>2170</th>\n",
       "      <td>-4.912777</td>\n",
       "      <td>CC(C)(C)Cc1nnc(-c2cnc3onc(C4CCCC4)c3c2)o1</td>\n",
       "    </tr>\n",
       "    <tr>\n",
       "      <th>2171</th>\n",
       "      <td>-3.781930</td>\n",
       "      <td>Cc1nonc1C(=O)NCCc1c[nH]c2cccc(C3(O)CCOCC3)c12</td>\n",
       "    </tr>\n",
       "    <tr>\n",
       "      <th>2172</th>\n",
       "      <td>-4.007018</td>\n",
       "      <td>CN1CC(=O)N(CCOc2ccccc2)C1=O</td>\n",
       "    </tr>\n",
       "  </tbody>\n",
       "</table>\n",
       "<p>2173 rows × 2 columns</p>\n",
       "</div>"
      ],
      "text/plain": [
       "          logS                                   canonical_smiles\n",
       "0    -5.548020  CNc1cc(Nc2cccn(-c3ccccn3)c2=O)nn2c(C(=O)N[C@@H...\n",
       "1    -5.071409  CCOc1cc2nn(CCC(C)(C)O)cc2cc1NC(=O)c1cccc(C(F)F)n1\n",
       "2    -3.925969  CC(C)(Oc1ccc(-c2cnc(N)c(-c3ccc(Cl)cc3)c2)cc1)C...\n",
       "3    -4.535280  CC#CC(=O)N[C@H]1CCCN(c2c(F)cc(C(N)=O)c3[nH]c(C...\n",
       "4    -4.709963  C=CC(=O)N1CCC[C@@H](n2nc(-c3ccc(Oc4ccccc4)cc3)...\n",
       "...        ...                                                ...\n",
       "2168 -3.733424                   Cc1cc(C)cc(C(=O)NCCCNc2ncccn2)c1\n",
       "2169 -4.037319                         CCc1noc(COc2c(C)ccnc2Cl)n1\n",
       "2170 -4.912777          CC(C)(C)Cc1nnc(-c2cnc3onc(C4CCCC4)c3c2)o1\n",
       "2171 -3.781930      Cc1nonc1C(=O)NCCc1c[nH]c2cccc(C3(O)CCOCC3)c12\n",
       "2172 -4.007018                        CN1CC(=O)N(CCOc2ccccc2)C1=O\n",
       "\n",
       "[2173 rows x 2 columns]"
      ]
     },
     "execution_count": 3,
     "metadata": {},
     "output_type": "execute_result"
    }
   ],
   "source": [
    "data_df"
   ]
  },
  {
   "cell_type": "code",
   "execution_count": 5,
   "id": "4475f19e-a0d6-4671-b90b-d273c200177b",
   "metadata": {},
   "outputs": [],
   "source": [
    "data_df['mol'] = data_df['canonical_smiles'].apply(Chem.MolFromSmiles)"
   ]
  },
  {
   "cell_type": "code",
   "execution_count": 11,
   "id": "852b9f45-b877-482f-9c9b-5f2f715effdf",
   "metadata": {},
   "outputs": [],
   "source": [
    "def get_split_index(mol_series, split_trial=5, split_outpath=None):\n",
    "    \"\"\"\"\"\"\n",
    "    tt_split_seeds = list(range(split_trial))\n",
    "    train_test_index = [utils_split.scaffold_split(mol_series=mol_series, seed=i) for i in tt_split_seeds]\n",
    "    # Further split train set for models with hyperparameter tuning\n",
    "    tvt_split_seeds = list(range(split_trial, split_trial*2))\n",
    "    train_valid_test_index = []\n",
    "    for i, (train_index, test_index) in zip(tvt_split_seeds, train_test_index):\n",
    "        train_valid_index = utils_split.scaffold_split(mol_series=mol_series.loc[train_index], sizes=(.85,.15), seed=i)\n",
    "        train_valid_test_index.append(train_valid_index + (test_index,))\n",
    "    if split_outpath is not None:\n",
    "        split_index = {\n",
    "            'train_test_index': dict(zip(tt_split_seeds, train_test_index)), \n",
    "            'train_valid_test_index': dict(zip(tvt_split_seeds, train_valid_test_index))\n",
    "        }\n",
    "        with open(split_outpath, 'w') as fout:\n",
    "            json.dump(split_index, fout)\n",
    "    return train_test_index, train_valid_test_index"
   ]
  },
  {
   "cell_type": "code",
   "execution_count": 21,
   "id": "9b3a0f74-d468-466e-a12c-fdecec4bb46a",
   "metadata": {},
   "outputs": [],
   "source": [
    "train_test_index, train_valid_test_index = get_split_index(data_df['mol'], split_outpath='solubility_Biogen_splitindex.json')"
   ]
  },
  {
   "cell_type": "code",
   "execution_count": 20,
   "id": "195840b8-bf7b-40c2-8313-8e8836dcc048",
   "metadata": {},
   "outputs": [
    {
     "data": {
      "text/plain": [
       "True"
      ]
     },
     "execution_count": 20,
     "metadata": {},
     "output_type": "execute_result"
    }
   ],
   "source": [
    "all(len((set(train_idx) | set(test_idx)) - set(data_df.index)) == 0 for train_idx, test_idx in train_test_index)"
   ]
  },
  {
   "cell_type": "code",
   "execution_count": 25,
   "id": "1cc461b5-550f-48ab-9176-82e80808de12",
   "metadata": {},
   "outputs": [],
   "source": [
    "utils_mol.append_morgan_sentence(data_df)"
   ]
  },
  {
   "cell_type": "code",
   "execution_count": 26,
   "id": "2b137f27-114b-4beb-9706-a7e7c9be5555",
   "metadata": {},
   "outputs": [
    {
     "data": {
      "text/html": [
       "<div>\n",
       "<style scoped>\n",
       "    .dataframe tbody tr th:only-of-type {\n",
       "        vertical-align: middle;\n",
       "    }\n",
       "\n",
       "    .dataframe tbody tr th {\n",
       "        vertical-align: top;\n",
       "    }\n",
       "\n",
       "    .dataframe thead th {\n",
       "        text-align: right;\n",
       "    }\n",
       "</style>\n",
       "<table border=\"1\" class=\"dataframe\">\n",
       "  <thead>\n",
       "    <tr style=\"text-align: right;\">\n",
       "      <th></th>\n",
       "      <th>logS</th>\n",
       "      <th>canonical_smiles</th>\n",
       "      <th>mol</th>\n",
       "      <th>morgan_sentence_r_0_s_0</th>\n",
       "      <th>morgan_sentence_r_1_s_0_radiusFirst</th>\n",
       "      <th>morgan_sentence_r_1_s_0_atomFirst</th>\n",
       "      <th>morgan_sentence_r_2_s_0_radiusFirst</th>\n",
       "      <th>morgan_sentence_r_2_s_0_atomFirst</th>\n",
       "    </tr>\n",
       "  </thead>\n",
       "  <tbody>\n",
       "    <tr>\n",
       "      <th>0</th>\n",
       "      <td>-5.548020</td>\n",
       "      <td>CNc1cc(Nc2cccn(-c3ccccn3)c2=O)nn2c(C(=O)N[C@@H...</td>\n",
       "      <td>&lt;rdkit.Chem.rdchem.Mol object at 0x7badd8be0dd0&gt;</td>\n",
       "      <td>2246728737 847961216 3217380708 3218693969 321...</td>\n",
       "      <td>2246728737 3824063894 847961216 1965692378 321...</td>\n",
       "      <td>2246728737 847961216 3217380708 3218693969 321...</td>\n",
       "      <td>2246728737 3824063894 847961216 1965692378 311...</td>\n",
       "      <td>2246728737 847961216 3217380708 3218693969 321...</td>\n",
       "    </tr>\n",
       "    <tr>\n",
       "      <th>1</th>\n",
       "      <td>-5.071409</td>\n",
       "      <td>CCOc1cc2nn(CCC(C)(C)O)cc2cc1NC(=O)c1cccc(C(F)F)n1</td>\n",
       "      <td>&lt;rdkit.Chem.rdchem.Mol object at 0x7badd8be0cf0&gt;</td>\n",
       "      <td>2246728737 2245384272 864674487 3217380708 321...</td>\n",
       "      <td>2246728737 3542456614 2245384272 3994088662 86...</td>\n",
       "      <td>2246728737 2245384272 864674487 3217380708 321...</td>\n",
       "      <td>2246728737 3542456614 2245384272 3994088662 26...</td>\n",
       "      <td>2246728737 2245384272 864674487 3217380708 321...</td>\n",
       "    </tr>\n",
       "    <tr>\n",
       "      <th>2</th>\n",
       "      <td>-3.925969</td>\n",
       "      <td>CC(C)(Oc1ccc(-c2cnc(N)c(-c3ccc(Cl)cc3)c2)cc1)C...</td>\n",
       "      <td>&lt;rdkit.Chem.rdchem.Mol object at 0x7badd8be0e40&gt;</td>\n",
       "      <td>2246728737 2245277810 2246728737 864674487 321...</td>\n",
       "      <td>2246728737 3537123720 2245277810 2442433719 22...</td>\n",
       "      <td>2246728737 2245277810 2246728737 864674487 321...</td>\n",
       "      <td>2246728737 3537123720 2245277810 2442433719 41...</td>\n",
       "      <td>2246728737 2245277810 2246728737 864674487 321...</td>\n",
       "    </tr>\n",
       "    <tr>\n",
       "      <th>3</th>\n",
       "      <td>-4.535280</td>\n",
       "      <td>CC#CC(=O)N[C@H]1CCCN(c2c(F)cc(C(N)=O)c3[nH]c(C...</td>\n",
       "      <td>&lt;rdkit.Chem.rdchem.Mol object at 0x7badd8be0eb0&gt;</td>\n",
       "      <td>2246728737 2245900962 2245900962 2246699815 86...</td>\n",
       "      <td>2246728737 3545074552 2245900962 4291903839 22...</td>\n",
       "      <td>2246728737 2245900962 2245900962 2246699815 86...</td>\n",
       "      <td>2246728737 3545074552 2245900962 4291903839 27...</td>\n",
       "      <td>2246728737 2245900962 2245900962 2246699815 86...</td>\n",
       "    </tr>\n",
       "    <tr>\n",
       "      <th>4</th>\n",
       "      <td>-4.709963</td>\n",
       "      <td>C=CC(=O)N1CCC[C@@H](n2nc(-c3ccc(Oc4ccccc4)cc3)...</td>\n",
       "      <td>&lt;rdkit.Chem.rdchem.Mol object at 0x7badd8be0f20&gt;</td>\n",
       "      <td>2246997334 2246703798 2246699815 864942730 209...</td>\n",
       "      <td>2246997334 3696402029 2246703798 723026879 224...</td>\n",
       "      <td>2246997334 2246703798 2246699815 864942730 209...</td>\n",
       "      <td>2246997334 3696402029 2246703798 723026879 386...</td>\n",
       "      <td>2246997334 2246703798 2246699815 864942730 209...</td>\n",
       "    </tr>\n",
       "    <tr>\n",
       "      <th>...</th>\n",
       "      <td>...</td>\n",
       "      <td>...</td>\n",
       "      <td>...</td>\n",
       "      <td>...</td>\n",
       "      <td>...</td>\n",
       "      <td>...</td>\n",
       "      <td>...</td>\n",
       "      <td>...</td>\n",
       "    </tr>\n",
       "    <tr>\n",
       "      <th>2168</th>\n",
       "      <td>-3.733424</td>\n",
       "      <td>Cc1cc(C)cc(C(=O)NCCCNc2ncccn2)c1</td>\n",
       "      <td>&lt;rdkit.Chem.rdchem.Mol object at 0x7badd8c34a50&gt;</td>\n",
       "      <td>2246728737 3217380708 3218693969 3217380708 22...</td>\n",
       "      <td>2246728737 422715066 3217380708 3207567135 321...</td>\n",
       "      <td>2246728737 3217380708 3218693969 3217380708 22...</td>\n",
       "      <td>2246728737 422715066 3217380708 3207567135 255...</td>\n",
       "      <td>2246728737 3217380708 3218693969 3217380708 22...</td>\n",
       "    </tr>\n",
       "    <tr>\n",
       "      <th>2169</th>\n",
       "      <td>-4.037319</td>\n",
       "      <td>CCc1noc(COc2c(C)ccnc2Cl)n1</td>\n",
       "      <td>&lt;rdkit.Chem.rdchem.Mol object at 0x7badd8c34ac0&gt;</td>\n",
       "      <td>2246728737 2245384272 3217380708 2041434490 31...</td>\n",
       "      <td>2246728737 3542456614 2245384272 618671879 321...</td>\n",
       "      <td>2246728737 2245384272 3217380708 2041434490 31...</td>\n",
       "      <td>2246728737 3542456614 2245384272 618671879 370...</td>\n",
       "      <td>2246728737 2245384272 3217380708 2041434490 31...</td>\n",
       "    </tr>\n",
       "    <tr>\n",
       "      <th>2170</th>\n",
       "      <td>-4.912777</td>\n",
       "      <td>CC(C)(C)Cc1nnc(-c2cnc3onc(C4CCCC4)c3c2)o1</td>\n",
       "      <td>&lt;rdkit.Chem.rdchem.Mol object at 0x7badd8c34b30&gt;</td>\n",
       "      <td>2246728737 2245277810 2246728737 2246728737 22...</td>\n",
       "      <td>2246728737 3537123720 2245277810 1914229733 22...</td>\n",
       "      <td>2246728737 2245277810 2246728737 2246728737 22...</td>\n",
       "      <td>2246728737 3537123720 2245277810 1914229733 34...</td>\n",
       "      <td>2246728737 2245277810 2246728737 2246728737 22...</td>\n",
       "    </tr>\n",
       "    <tr>\n",
       "      <th>2171</th>\n",
       "      <td>-3.781930</td>\n",
       "      <td>Cc1nonc1C(=O)NCCc1c[nH]c2cccc(C3(O)CCOCC3)c12</td>\n",
       "      <td>&lt;rdkit.Chem.rdchem.Mol object at 0x7badd8c34ba0&gt;</td>\n",
       "      <td>2246728737 3217380708 2041434490 3189457552 20...</td>\n",
       "      <td>2246728737 422715066 3217380708 4033380444 204...</td>\n",
       "      <td>2246728737 3217380708 2041434490 3189457552 20...</td>\n",
       "      <td>2246728737 422715066 3217380708 4033380444 196...</td>\n",
       "      <td>2246728737 3217380708 2041434490 3189457552 20...</td>\n",
       "    </tr>\n",
       "    <tr>\n",
       "      <th>2172</th>\n",
       "      <td>-4.007018</td>\n",
       "      <td>CN1CC(=O)N(CCOc2ccccc2)C1=O</td>\n",
       "      <td>&lt;rdkit.Chem.rdchem.Mol object at 0x7badd8c34c10&gt;</td>\n",
       "      <td>2246728737 2092489639 2968968094 3217380708 86...</td>\n",
       "      <td>2246728737 3657471097 2092489639 1849554589 29...</td>\n",
       "      <td>2246728737 2092489639 2968968094 3217380708 86...</td>\n",
       "      <td>2246728737 3657471097 2092489639 1849554589 93...</td>\n",
       "      <td>2246728737 2092489639 2968968094 3217380708 86...</td>\n",
       "    </tr>\n",
       "  </tbody>\n",
       "</table>\n",
       "<p>2173 rows × 8 columns</p>\n",
       "</div>"
      ],
      "text/plain": [
       "          logS                                   canonical_smiles   \n",
       "0    -5.548020  CNc1cc(Nc2cccn(-c3ccccn3)c2=O)nn2c(C(=O)N[C@@H...  \\\n",
       "1    -5.071409  CCOc1cc2nn(CCC(C)(C)O)cc2cc1NC(=O)c1cccc(C(F)F)n1   \n",
       "2    -3.925969  CC(C)(Oc1ccc(-c2cnc(N)c(-c3ccc(Cl)cc3)c2)cc1)C...   \n",
       "3    -4.535280  CC#CC(=O)N[C@H]1CCCN(c2c(F)cc(C(N)=O)c3[nH]c(C...   \n",
       "4    -4.709963  C=CC(=O)N1CCC[C@@H](n2nc(-c3ccc(Oc4ccccc4)cc3)...   \n",
       "...        ...                                                ...   \n",
       "2168 -3.733424                   Cc1cc(C)cc(C(=O)NCCCNc2ncccn2)c1   \n",
       "2169 -4.037319                         CCc1noc(COc2c(C)ccnc2Cl)n1   \n",
       "2170 -4.912777          CC(C)(C)Cc1nnc(-c2cnc3onc(C4CCCC4)c3c2)o1   \n",
       "2171 -3.781930      Cc1nonc1C(=O)NCCc1c[nH]c2cccc(C3(O)CCOCC3)c12   \n",
       "2172 -4.007018                        CN1CC(=O)N(CCOc2ccccc2)C1=O   \n",
       "\n",
       "                                                   mol   \n",
       "0     <rdkit.Chem.rdchem.Mol object at 0x7badd8be0dd0>  \\\n",
       "1     <rdkit.Chem.rdchem.Mol object at 0x7badd8be0cf0>   \n",
       "2     <rdkit.Chem.rdchem.Mol object at 0x7badd8be0e40>   \n",
       "3     <rdkit.Chem.rdchem.Mol object at 0x7badd8be0eb0>   \n",
       "4     <rdkit.Chem.rdchem.Mol object at 0x7badd8be0f20>   \n",
       "...                                                ...   \n",
       "2168  <rdkit.Chem.rdchem.Mol object at 0x7badd8c34a50>   \n",
       "2169  <rdkit.Chem.rdchem.Mol object at 0x7badd8c34ac0>   \n",
       "2170  <rdkit.Chem.rdchem.Mol object at 0x7badd8c34b30>   \n",
       "2171  <rdkit.Chem.rdchem.Mol object at 0x7badd8c34ba0>   \n",
       "2172  <rdkit.Chem.rdchem.Mol object at 0x7badd8c34c10>   \n",
       "\n",
       "                                morgan_sentence_r_0_s_0   \n",
       "0     2246728737 847961216 3217380708 3218693969 321...  \\\n",
       "1     2246728737 2245384272 864674487 3217380708 321...   \n",
       "2     2246728737 2245277810 2246728737 864674487 321...   \n",
       "3     2246728737 2245900962 2245900962 2246699815 86...   \n",
       "4     2246997334 2246703798 2246699815 864942730 209...   \n",
       "...                                                 ...   \n",
       "2168  2246728737 3217380708 3218693969 3217380708 22...   \n",
       "2169  2246728737 2245384272 3217380708 2041434490 31...   \n",
       "2170  2246728737 2245277810 2246728737 2246728737 22...   \n",
       "2171  2246728737 3217380708 2041434490 3189457552 20...   \n",
       "2172  2246728737 2092489639 2968968094 3217380708 86...   \n",
       "\n",
       "                    morgan_sentence_r_1_s_0_radiusFirst   \n",
       "0     2246728737 3824063894 847961216 1965692378 321...  \\\n",
       "1     2246728737 3542456614 2245384272 3994088662 86...   \n",
       "2     2246728737 3537123720 2245277810 2442433719 22...   \n",
       "3     2246728737 3545074552 2245900962 4291903839 22...   \n",
       "4     2246997334 3696402029 2246703798 723026879 224...   \n",
       "...                                                 ...   \n",
       "2168  2246728737 422715066 3217380708 3207567135 321...   \n",
       "2169  2246728737 3542456614 2245384272 618671879 321...   \n",
       "2170  2246728737 3537123720 2245277810 1914229733 22...   \n",
       "2171  2246728737 422715066 3217380708 4033380444 204...   \n",
       "2172  2246728737 3657471097 2092489639 1849554589 29...   \n",
       "\n",
       "                      morgan_sentence_r_1_s_0_atomFirst   \n",
       "0     2246728737 847961216 3217380708 3218693969 321...  \\\n",
       "1     2246728737 2245384272 864674487 3217380708 321...   \n",
       "2     2246728737 2245277810 2246728737 864674487 321...   \n",
       "3     2246728737 2245900962 2245900962 2246699815 86...   \n",
       "4     2246997334 2246703798 2246699815 864942730 209...   \n",
       "...                                                 ...   \n",
       "2168  2246728737 3217380708 3218693969 3217380708 22...   \n",
       "2169  2246728737 2245384272 3217380708 2041434490 31...   \n",
       "2170  2246728737 2245277810 2246728737 2246728737 22...   \n",
       "2171  2246728737 3217380708 2041434490 3189457552 20...   \n",
       "2172  2246728737 2092489639 2968968094 3217380708 86...   \n",
       "\n",
       "                    morgan_sentence_r_2_s_0_radiusFirst   \n",
       "0     2246728737 3824063894 847961216 1965692378 311...  \\\n",
       "1     2246728737 3542456614 2245384272 3994088662 26...   \n",
       "2     2246728737 3537123720 2245277810 2442433719 41...   \n",
       "3     2246728737 3545074552 2245900962 4291903839 27...   \n",
       "4     2246997334 3696402029 2246703798 723026879 386...   \n",
       "...                                                 ...   \n",
       "2168  2246728737 422715066 3217380708 3207567135 255...   \n",
       "2169  2246728737 3542456614 2245384272 618671879 370...   \n",
       "2170  2246728737 3537123720 2245277810 1914229733 34...   \n",
       "2171  2246728737 422715066 3217380708 4033380444 196...   \n",
       "2172  2246728737 3657471097 2092489639 1849554589 93...   \n",
       "\n",
       "                      morgan_sentence_r_2_s_0_atomFirst  \n",
       "0     2246728737 847961216 3217380708 3218693969 321...  \n",
       "1     2246728737 2245384272 864674487 3217380708 321...  \n",
       "2     2246728737 2245277810 2246728737 864674487 321...  \n",
       "3     2246728737 2245900962 2245900962 2246699815 86...  \n",
       "4     2246997334 2246703798 2246699815 864942730 209...  \n",
       "...                                                 ...  \n",
       "2168  2246728737 3217380708 3218693969 3217380708 22...  \n",
       "2169  2246728737 2245384272 3217380708 2041434490 31...  \n",
       "2170  2246728737 2245277810 2246728737 2246728737 22...  \n",
       "2171  2246728737 3217380708 2041434490 3189457552 20...  \n",
       "2172  2246728737 2092489639 2968968094 3217380708 86...  \n",
       "\n",
       "[2173 rows x 8 columns]"
      ]
     },
     "execution_count": 26,
     "metadata": {},
     "output_type": "execute_result"
    }
   ],
   "source": [
    "data_df"
   ]
  },
  {
   "cell_type": "code",
   "execution_count": 34,
   "id": "3117c771-6201-4cc0-8d85-b3e25e2d6b7a",
   "metadata": {},
   "outputs": [
    {
     "data": {
      "application/vnd.jupyter.widget-view+json": {
       "model_id": "0c47175be2f44b04b62b88483759e221",
       "version_major": 2,
       "version_minor": 0
      },
      "text/plain": [
       "tokenizer_config.json:   0%|          | 0.00/1.29k [00:00<?, ?B/s]"
      ]
     },
     "metadata": {},
     "output_type": "display_data"
    },
    {
     "data": {
      "application/vnd.jupyter.widget-view+json": {
       "model_id": "dafabf4151a64992bb955dcca4efd8ef",
       "version_major": 2,
       "version_minor": 0
      },
      "text/plain": [
       "vocab.txt:   0%|          | 0.00/173k [00:00<?, ?B/s]"
      ]
     },
     "metadata": {},
     "output_type": "display_data"
    },
    {
     "data": {
      "application/vnd.jupyter.widget-view+json": {
       "model_id": "606ef42759e64f928b0585df1e6f3466",
       "version_major": 2,
       "version_minor": 0
      },
      "text/plain": [
       "added_tokens.json:   0%|          | 0.00/94.0 [00:00<?, ?B/s]"
      ]
     },
     "metadata": {},
     "output_type": "display_data"
    },
    {
     "data": {
      "application/vnd.jupyter.widget-view+json": {
       "model_id": "cff8cbf254c94adcad77f83b09a2000d",
       "version_major": 2,
       "version_minor": 0
      },
      "text/plain": [
       "special_tokens_map.json:   0%|          | 0.00/125 [00:00<?, ?B/s]"
      ]
     },
     "metadata": {},
     "output_type": "display_data"
    }
   ],
   "source": [
    "tokenizer = BertTokenizer.from_pretrained('Keylab/MorganBERT_r1_radius')"
   ]
  },
  {
   "cell_type": "code",
   "execution_count": 36,
   "id": "37cfb846-eeea-4f4e-8300-94cf54147e17",
   "metadata": {},
   "outputs": [],
   "source": [
    "def run_roberta_like():\n",
    "    \"\"\"\"\"\"\n",
    "    model_path = 'Keylab/MorganBERT_r1_radius'\n",
    "    output_dir = './tmp_models_%s/%s_%s' % ('MorganBERT', 'MorganBERT_r1_radius', 'Biogen-sol')\n",
    "    results = []\n",
    "    for train_index, test_index in train_test_index:\n",
    "        start = time.time()\n",
    "        eval_result = model_roberta.run_roberta_like_train_test(model_path, \n",
    "                                                                tokenizer, \n",
    "                                                                data_df['morgan_sentence_r_1_s_0_radiusFirst'].loc[train_index].tolist(), \n",
    "                                                                data_df['logS'].loc[train_index].tolist(), \n",
    "                                                                data_df['morgan_sentence_r_1_s_0_radiusFirst'].loc[test_index].tolist(), \n",
    "                                                                data_df['logS'].loc[test_index].tolist(), \n",
    "                                                                'regression', \n",
    "                                                                output_dir, \n",
    "                                                                30)\n",
    "        end = time.time()\n",
    "        eval_result['total_runtime_sec'] = (end - start)\n",
    "        results.append(eval_result)\n",
    "        break\n",
    "    return pd.DataFrame(results)"
   ]
  },
  {
   "cell_type": "code",
   "execution_count": 37,
   "id": "ed9798e4-8ec7-46b6-9d4a-c2a02272e352",
   "metadata": {
    "scrolled": true
   },
   "outputs": [
    {
     "name": "stderr",
     "output_type": "stream",
     "text": [
      "Some weights of RobertaForSequenceClassification were not initialized from the model checkpoint at Keylab/MorganBERT_r1_radius and are newly initialized: ['classifier.dense.bias', 'classifier.dense.weight', 'classifier.out_proj.bias', 'classifier.out_proj.weight']\n",
      "You should probably TRAIN this model on a down-stream task to be able to use it for predictions and inference.\n",
      "/home/administrator/miniconda3/lib/python3.12/site-packages/torch/nn/parallel/_functions.py:71: UserWarning: Was asked to gather along dimension 0, but all input tensors were scalars; will instead unsqueeze and return a vector.\n",
      "  warnings.warn(\n"
     ]
    },
    {
     "data": {
      "text/html": [
       "\n",
       "    <div>\n",
       "      \n",
       "      <progress value='3270' max='3270' style='width:300px; height:20px; vertical-align: middle;'></progress>\n",
       "      [3270/3270 13:01, Epoch 30/30]\n",
       "    </div>\n",
       "    <table border=\"1\" class=\"dataframe\">\n",
       "  <thead>\n",
       " <tr style=\"text-align: left;\">\n",
       "      <th>Step</th>\n",
       "      <th>Training Loss</th>\n",
       "    </tr>\n",
       "  </thead>\n",
       "  <tbody>\n",
       "    <tr>\n",
       "      <td>500</td>\n",
       "      <td>0.346100</td>\n",
       "    </tr>\n",
       "    <tr>\n",
       "      <td>1000</td>\n",
       "      <td>0.080900</td>\n",
       "    </tr>\n",
       "    <tr>\n",
       "      <td>1500</td>\n",
       "      <td>0.048200</td>\n",
       "    </tr>\n",
       "    <tr>\n",
       "      <td>2000</td>\n",
       "      <td>0.034300</td>\n",
       "    </tr>\n",
       "    <tr>\n",
       "      <td>2500</td>\n",
       "      <td>0.024900</td>\n",
       "    </tr>\n",
       "    <tr>\n",
       "      <td>3000</td>\n",
       "      <td>0.019500</td>\n",
       "    </tr>\n",
       "  </tbody>\n",
       "</table><p>"
      ],
      "text/plain": [
       "<IPython.core.display.HTML object>"
      ]
     },
     "metadata": {},
     "output_type": "display_data"
    },
    {
     "name": "stderr",
     "output_type": "stream",
     "text": [
      "/home/administrator/miniconda3/lib/python3.12/site-packages/torch/nn/parallel/_functions.py:71: UserWarning: Was asked to gather along dimension 0, but all input tensors were scalars; will instead unsqueeze and return a vector.\n",
      "  warnings.warn(\n",
      "/home/administrator/miniconda3/lib/python3.12/site-packages/torch/nn/parallel/_functions.py:71: UserWarning: Was asked to gather along dimension 0, but all input tensors were scalars; will instead unsqueeze and return a vector.\n",
      "  warnings.warn(\n",
      "/home/administrator/miniconda3/lib/python3.12/site-packages/torch/nn/parallel/_functions.py:71: UserWarning: Was asked to gather along dimension 0, but all input tensors were scalars; will instead unsqueeze and return a vector.\n",
      "  warnings.warn(\n",
      "/home/administrator/miniconda3/lib/python3.12/site-packages/torch/nn/parallel/_functions.py:71: UserWarning: Was asked to gather along dimension 0, but all input tensors were scalars; will instead unsqueeze and return a vector.\n",
      "  warnings.warn(\n",
      "/home/administrator/miniconda3/lib/python3.12/site-packages/torch/nn/parallel/_functions.py:71: UserWarning: Was asked to gather along dimension 0, but all input tensors were scalars; will instead unsqueeze and return a vector.\n",
      "  warnings.warn(\n",
      "/home/administrator/miniconda3/lib/python3.12/site-packages/torch/nn/parallel/_functions.py:71: UserWarning: Was asked to gather along dimension 0, but all input tensors were scalars; will instead unsqueeze and return a vector.\n",
      "  warnings.warn(\n",
      "/home/administrator/miniconda3/lib/python3.12/site-packages/torch/nn/parallel/_functions.py:71: UserWarning: Was asked to gather along dimension 0, but all input tensors were scalars; will instead unsqueeze and return a vector.\n",
      "  warnings.warn(\n"
     ]
    },
    {
     "data": {
      "text/html": [
       "\n",
       "    <div>\n",
       "      \n",
       "      <progress value='14' max='14' style='width:300px; height:20px; vertical-align: middle;'></progress>\n",
       "      [14/14 00:02]\n",
       "    </div>\n",
       "    "
      ],
      "text/plain": [
       "<IPython.core.display.HTML object>"
      ]
     },
     "metadata": {},
     "output_type": "display_data"
    }
   ],
   "source": [
    "model_perf = run_roberta_like()"
   ]
  },
  {
   "cell_type": "code",
   "execution_count": 38,
   "id": "439df653-9dd3-467a-b4e6-419cd3963d5b",
   "metadata": {},
   "outputs": [
    {
     "data": {
      "text/html": [
       "<div>\n",
       "<style scoped>\n",
       "    .dataframe tbody tr th:only-of-type {\n",
       "        vertical-align: middle;\n",
       "    }\n",
       "\n",
       "    .dataframe tbody tr th {\n",
       "        vertical-align: top;\n",
       "    }\n",
       "\n",
       "    .dataframe thead th {\n",
       "        text-align: right;\n",
       "    }\n",
       "</style>\n",
       "<table border=\"1\" class=\"dataframe\">\n",
       "  <thead>\n",
       "    <tr style=\"text-align: right;\">\n",
       "      <th></th>\n",
       "      <th>eval_loss</th>\n",
       "      <th>eval_mse</th>\n",
       "      <th>eval_mae</th>\n",
       "      <th>eval_r2</th>\n",
       "      <th>eval_rmse</th>\n",
       "      <th>eval_pcc</th>\n",
       "      <th>eval_runtime</th>\n",
       "      <th>eval_samples_per_second</th>\n",
       "      <th>eval_steps_per_second</th>\n",
       "      <th>epoch</th>\n",
       "      <th>total_runtime_sec</th>\n",
       "    </tr>\n",
       "  </thead>\n",
       "  <tbody>\n",
       "    <tr>\n",
       "      <th>0</th>\n",
       "      <td>0.315148</td>\n",
       "      <td>0.314924</td>\n",
       "      <td>0.398619</td>\n",
       "      <td>0.44044</td>\n",
       "      <td>0.561181</td>\n",
       "      <td>0.66427</td>\n",
       "      <td>2.2123</td>\n",
       "      <td>196.628</td>\n",
       "      <td>6.328</td>\n",
       "      <td>30.0</td>\n",
       "      <td>787.70544</td>\n",
       "    </tr>\n",
       "  </tbody>\n",
       "</table>\n",
       "</div>"
      ],
      "text/plain": [
       "   eval_loss  eval_mse  eval_mae  eval_r2  eval_rmse  eval_pcc  eval_runtime   \n",
       "0   0.315148  0.314924  0.398619  0.44044   0.561181   0.66427        2.2123  \\\n",
       "\n",
       "   eval_samples_per_second  eval_steps_per_second  epoch  total_runtime_sec  \n",
       "0                  196.628                  6.328   30.0          787.70544  "
      ]
     },
     "execution_count": 38,
     "metadata": {},
     "output_type": "execute_result"
    }
   ],
   "source": [
    "model_perf"
   ]
  },
  {
   "cell_type": "code",
   "execution_count": null,
   "id": "7848b334-c498-4561-9e30-76ea6f89cb37",
   "metadata": {},
   "outputs": [],
   "source": []
  }
 ],
 "metadata": {
  "kernelspec": {
   "display_name": "Python 3 (ipykernel)",
   "language": "python",
   "name": "python3"
  },
  "language_info": {
   "codemirror_mode": {
    "name": "ipython",
    "version": 3
   },
   "file_extension": ".py",
   "mimetype": "text/x-python",
   "name": "python",
   "nbconvert_exporter": "python",
   "pygments_lexer": "ipython3",
   "version": "3.12.2"
  }
 },
 "nbformat": 4,
 "nbformat_minor": 5
}
