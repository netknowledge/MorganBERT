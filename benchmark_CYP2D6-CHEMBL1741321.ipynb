{
 "cells": [
  {
   "cell_type": "code",
   "execution_count": 1,
   "id": "9a6b645d-5d82-4c92-ab8c-2ee9b5244607",
   "metadata": {},
   "outputs": [],
   "source": [
    "import utils_benchmark"
   ]
  },
  {
   "cell_type": "markdown",
   "id": "0179e648-0917-440c-ac5b-3a262d44d2ad",
   "metadata": {},
   "source": [
    "## CYP2D6-CHEMBL1741321"
   ]
  },
  {
   "cell_type": "code",
   "execution_count": 2,
   "id": "618bee41-f4cb-45ea-9dd2-b8e0e963cb48",
   "metadata": {},
   "outputs": [],
   "source": [
    "task_name = 'CYP2D6-CHEMBL1741321'"
   ]
  },
  {
   "cell_type": "code",
   "execution_count": 3,
   "id": "f172a292-2962-4686-aa63-d278866e0026",
   "metadata": {},
   "outputs": [
    {
     "data": {
      "text/plain": [
       "20"
      ]
     },
     "execution_count": 3,
     "metadata": {},
     "output_type": "execute_result"
    }
   ],
   "source": [
    "# model_perf = {}\n",
    "model_perf = utils_benchmark.load_model_perf(task_name)\n",
    "len(model_perf)"
   ]
  },
  {
   "cell_type": "code",
   "execution_count": null,
   "id": "6687c50c-0c06-4a23-903e-69d7b92ff1d3",
   "metadata": {
    "scrolled": true
   },
   "outputs": [
    {
     "name": "stdout",
     "output_type": "stream",
     "text": [
      "Number of compounds: 5461\n"
     ]
    },
    {
     "name": "stderr",
     "output_type": "stream",
     "text": [
      "KNN: 100%|██████████████████████████████████████████████████████████████████████████████████████████████████████████████████████████████████████████████████████████████████████████████████████████████████████████████████████████████████████████████████████████████████████████████████████| 5/5 [00:44<00:00,  8.83s/it]\n",
      "RF+MACCS: 100%|█████████████████████████████████████████████████████████████████████████████████████████████████████████████████████████████████████████████████████████████████████████████████████████████████████████████████████████████████████████████████████████████████████████████████| 5/5 [00:01<00:00,  2.84it/s]\n",
      "RF+PubChemFP: 100%|█████████████████████████████████████████████████████████████████████████████████████████████████████████████████████████████████████████████████████████████████████████████████████████████████████████████████████████████████████████████████████████████████████████████| 5/5 [00:04<00:00,  1.01it/s]\n",
      "RF+ECFP2: 100%|█████████████████████████████████████████████████████████████████████████████████████████████████████████████████████████████████████████████████████████████████████████████████████████████████████████████████████████████████████████████████████████████████████████████████| 5/5 [00:10<00:00,  2.18s/it]\n",
      "RF+ECFP4: 100%|█████████████████████████████████████████████████████████████████████████████████████████████████████████████████████████████████████████████████████████████████████████████████████████████████████████████████████████████████████████████████████████████████████████████████| 5/5 [00:44<00:00,  8.93s/it]\n",
      "RF+Daylight: 100%|██████████████████████████████████████████████████████████████████████████████████████████████████████████████████████████████████████████████████████████████████████████████████████████████████████████████████████████████████████████████████████████████████████████████| 5/5 [00:29<00:00,  5.92s/it]\n",
      "RF+RDKitFP: 100%|███████████████████████████████████████████████████████████████████████████████████████████████████████████████████████████████████████████████████████████████████████████████████████████████████████████████████████████████████████████████████████████████████████████████| 5/5 [00:28<00:00,  5.64s/it]\n",
      "GPU available: True (cuda), used: True\n",
      "TPU available: False, using: 0 TPU cores\n",
      "HPU available: False, using: 0 HPUs\n",
      "/home/junjdong/miniconda3/envs/morgan/lib/python3.11/site-packages/lightning/pytorch/trainer/configuration_validator.py:70: You defined a `validation_step` but have no `val_dataloader`. Skipping val loop.\n",
      "You are using a CUDA device ('NVIDIA L40') that has Tensor Cores. To properly utilize them, you should set `torch.set_float32_matmul_precision('medium' | 'high')` which will trade-off precision for performance. For more details, read https://pytorch.org/docs/stable/generated/torch.set_float32_matmul_precision.html#torch.set_float32_matmul_precision\n",
      "LOCAL_RANK: 0 - CUDA_VISIBLE_DEVICES: [0,1,2,3,4,5,6,7]\n",
      "Loading `train_dataloader` to estimate number of stepping batches.\n",
      "\n",
      "  | Name            | Type               | Params | Mode \n",
      "---------------------------------------------------------------\n",
      "0 | message_passing | BondMessagePassing | 227 K  | train\n",
      "1 | agg             | MeanAggregation    | 0      | train\n",
      "2 | bn              | BatchNorm1d        | 600    | train\n",
      "3 | predictor       | RegressionFFN      | 90.6 K | train\n",
      "4 | X_d_transform   | Identity           | 0      | train\n",
      "---------------------------------------------------------------\n",
      "318 K     Trainable params\n",
      "0         Non-trainable params\n",
      "318 K     Total params\n",
      "1.276     Total estimated model params size (MB)\n",
      "21        Modules in train mode\n",
      "0         Modules in eval mode\n"
     ]
    },
    {
     "data": {
      "application/vnd.jupyter.widget-view+json": {
       "model_id": "eed59943f95f43c08b0b739c1b34e3d4",
       "version_major": 2,
       "version_minor": 0
      },
      "text/plain": [
       "Training: |                                                                                                   …"
      ]
     },
     "metadata": {},
     "output_type": "display_data"
    }
   ],
   "source": [
    "model_perf = utils_benchmark.run_benchmark(task_name, model_perf, data_dir='./benchmarks/')\n",
    "len(model_perf)"
   ]
  },
  {
   "cell_type": "code",
   "execution_count": 4,
   "id": "ab5fd788-7354-4935-8290-b5616738e7b5",
   "metadata": {
    "scrolled": true
   },
   "outputs": [
    {
     "name": "stdout",
     "output_type": "stream",
     "text": [
      "-------------------- eval_mse --------------------\n",
      "KNN 0.592 $\\pm$ 0.037\n",
      "RF+MACCS 0.519 $\\pm$ 0.022\n",
      "RF+PubChemFP 0.513 $\\pm$ 0.016\n",
      "RF+ECFP2 0.517 $\\pm$ 0.031\n",
      "RF+ECFP4 0.506 $\\pm$ 0.029\n",
      "RF+Daylight 0.508 $\\pm$ 0.017\n",
      "RF+RDKitFP 0.505 $\\pm$ 0.016\n",
      "D-MPNN 0.590 $\\pm$ 0.039\n",
      "MolCLR 0.526 $\\pm$ 0.030\n",
      "ChemBERTa-10M-MLM 0.543 $\\pm$ 0.018\n",
      "ChemBERTa-77M-MLM 0.537 $\\pm$ 0.029\n",
      "MolFormer 0.680 $\\pm$ 0.081\n",
      "MorganBERT_base_full_r_0_s_0 0.575 $\\pm$ 0.030\n",
      "MorganBERT_base_full_r_1_s_0_atomFirst_f_300 0.580 $\\pm$ 0.045\n",
      "MorganBERT_base_full_r_1_s_0_radiusFirst_f_300 0.561 $\\pm$ 0.037\n",
      "MorganBERT_base_full_r_2_s_0_atomFirst_f_2300 0.563 $\\pm$ 0.026\n",
      "MorganBERT_base_full_r_2_s_0_radiusFirst_f_2300 0.562 $\\pm$ 0.031\n",
      "\n",
      "\n",
      "-------------------- eval_mae --------------------\n",
      "KNN 0.542 $\\pm$ 0.014\n",
      "RF+MACCS 0.522 $\\pm$ 0.009\n",
      "RF+PubChemFP 0.515 $\\pm$ 0.009\n",
      "RF+ECFP2 0.500 $\\pm$ 0.014\n",
      "RF+ECFP4 0.494 $\\pm$ 0.009\n",
      "RF+Daylight 0.536 $\\pm$ 0.005\n",
      "RF+RDKitFP 0.530 $\\pm$ 0.007\n",
      "D-MPNN 0.545 $\\pm$ 0.023\n",
      "MolCLR 0.513 $\\pm$ 0.014\n",
      "ChemBERTa-10M-MLM 0.542 $\\pm$ 0.016\n",
      "ChemBERTa-77M-MLM 0.525 $\\pm$ 0.018\n",
      "MolFormer 0.661 $\\pm$ 0.051\n",
      "MorganBERT_base_full_r_0_s_0 0.540 $\\pm$ 0.016\n",
      "MorganBERT_base_full_r_1_s_0_atomFirst_f_300 0.529 $\\pm$ 0.025\n",
      "MorganBERT_base_full_r_1_s_0_radiusFirst_f_300 0.532 $\\pm$ 0.018\n",
      "MorganBERT_base_full_r_2_s_0_atomFirst_f_2300 0.518 $\\pm$ 0.013\n",
      "MorganBERT_base_full_r_2_s_0_radiusFirst_f_2300 0.531 $\\pm$ 0.014\n",
      "\n",
      "\n",
      "-------------------- eval_r2 --------------------\n",
      "KNN -0.049 $\\pm$ 0.049\n",
      "RF+MACCS 0.080 $\\pm$ 0.019\n",
      "RF+PubChemFP 0.091 $\\pm$ 0.030\n",
      "RF+ECFP2 0.084 $\\pm$ 0.045\n",
      "RF+ECFP4 0.103 $\\pm$ 0.030\n",
      "RF+Daylight 0.098 $\\pm$ 0.040\n",
      "RF+RDKitFP 0.103 $\\pm$ 0.038\n",
      "D-MPNN -0.047 $\\pm$ 0.082\n",
      "MolCLR 0.067 $\\pm$ 0.050\n",
      "ChemBERTa-10M-MLM 0.037 $\\pm$ 0.047\n",
      "ChemBERTa-77M-MLM 0.048 $\\pm$ 0.032\n",
      "MolFormer -2.331 $\\pm$ 0.272\n",
      "MorganBERT_base_full_r_0_s_0 -0.020 $\\pm$ 0.060\n",
      "MorganBERT_base_full_r_1_s_0_atomFirst_f_300 -0.028 $\\pm$ 0.065\n",
      "MorganBERT_base_full_r_1_s_0_radiusFirst_f_300 0.006 $\\pm$ 0.052\n",
      "MorganBERT_base_full_r_2_s_0_atomFirst_f_2300 0.002 $\\pm$ 0.033\n",
      "MorganBERT_base_full_r_2_s_0_radiusFirst_f_2300 0.003 $\\pm$ 0.050\n",
      "\n",
      "\n",
      "-------------------- eval_rmse --------------------\n",
      "KNN 0.769 $\\pm$ 0.024\n",
      "RF+MACCS 0.720 $\\pm$ 0.016\n",
      "RF+PubChemFP 0.716 $\\pm$ 0.012\n",
      "RF+ECFP2 0.718 $\\pm$ 0.022\n",
      "RF+ECFP4 0.711 $\\pm$ 0.021\n",
      "RF+Daylight 0.713 $\\pm$ 0.012\n",
      "RF+RDKitFP 0.711 $\\pm$ 0.011\n",
      "D-MPNN 0.768 $\\pm$ 0.025\n",
      "MolCLR 0.725 $\\pm$ 0.021\n",
      "ChemBERTa-10M-MLM 0.737 $\\pm$ 0.012\n",
      "ChemBERTa-77M-MLM 0.733 $\\pm$ 0.020\n",
      "MolFormer 0.823 $\\pm$ 0.048\n",
      "MorganBERT_base_full_r_0_s_0 0.758 $\\pm$ 0.020\n",
      "MorganBERT_base_full_r_1_s_0_atomFirst_f_300 0.761 $\\pm$ 0.030\n",
      "MorganBERT_base_full_r_1_s_0_radiusFirst_f_300 0.749 $\\pm$ 0.025\n",
      "MorganBERT_base_full_r_2_s_0_atomFirst_f_2300 0.750 $\\pm$ 0.017\n",
      "MorganBERT_base_full_r_2_s_0_radiusFirst_f_2300 0.749 $\\pm$ 0.021\n",
      "\n",
      "\n",
      "-------------------- eval_pcc --------------------\n",
      "KNN 0.284 $\\pm$ 0.032\n",
      "RF+MACCS 0.323 $\\pm$ 0.021\n",
      "RF+PubChemFP 0.327 $\\pm$ 0.037\n",
      "RF+ECFP2 0.318 $\\pm$ 0.054\n",
      "RF+ECFP4 0.340 $\\pm$ 0.034\n",
      "RF+Daylight 0.332 $\\pm$ 0.049\n",
      "RF+RDKitFP 0.340 $\\pm$ 0.045\n",
      "D-MPNN 0.320 $\\pm$ 0.036\n",
      "MolCLR 0.287 $\\pm$ 0.061\n",
      "ChemBERTa-10M-MLM 0.323 $\\pm$ 0.032\n",
      "ChemBERTa-77M-MLM 0.306 $\\pm$ 0.027\n",
      "MolFormer 0.309 $\\pm$ 0.036\n",
      "MorganBERT_base_full_r_0_s_0 0.328 $\\pm$ 0.028\n",
      "MorganBERT_base_full_r_1_s_0_atomFirst_f_300 0.317 $\\pm$ 0.037\n",
      "MorganBERT_base_full_r_1_s_0_radiusFirst_f_300 0.342 $\\pm$ 0.037\n",
      "MorganBERT_base_full_r_2_s_0_atomFirst_f_2300 0.320 $\\pm$ 0.018\n",
      "MorganBERT_base_full_r_2_s_0_radiusFirst_f_2300 0.336 $\\pm$ 0.034\n",
      "\n",
      "\n"
     ]
    }
   ],
   "source": [
    "utils_benchmark.print_perf_table(model_perf)"
   ]
  },
  {
   "cell_type": "code",
   "execution_count": null,
   "id": "9225cb17-efa2-4ef1-823f-7715fbf4390a",
   "metadata": {},
   "outputs": [],
   "source": []
  }
 ],
 "metadata": {
  "kernelspec": {
   "display_name": "Python 3 (ipykernel)",
   "language": "python",
   "name": "python3"
  },
  "language_info": {
   "codemirror_mode": {
    "name": "ipython",
    "version": 3
   },
   "file_extension": ".py",
   "mimetype": "text/x-python",
   "name": "python",
   "nbconvert_exporter": "python",
   "pygments_lexer": "ipython3",
   "version": "3.12.2"
  }
 },
 "nbformat": 4,
 "nbformat_minor": 5
}
